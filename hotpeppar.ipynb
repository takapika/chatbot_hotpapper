{
 "cells": [
  {
   "cell_type": "markdown",
   "id": "80cc69df",
   "metadata": {},
   "source": [
    "hotpapper APIを使用して市名から飲食店情報を取得する"
   ]
  },
  {
   "cell_type": "code",
   "execution_count": 2,
   "id": "e060d58a",
   "metadata": {},
   "outputs": [
    {
     "name": "stdout",
     "output_type": "stream",
     "text": [
      "{'id': 'J001263873', 'name': '名物串カツかぶと家', 'logo_image': 'https://imgfp.hotp.jp/IMGH/03/98/P046990398/P046990398_69.jpg', 'name_kana': 'めいぶつくしかつかぶとや', 'address': '新潟県南魚沼市六日町１８５４ ', 'station_name': '六日町', 'ktai_coupon': 0, 'large_service_area': {'code': 'SS60', 'name': '北陸・甲信越'}, 'service_area': {'code': 'SA61', 'name': '新潟'}, 'large_area': {'code': 'Z061', 'name': '新潟'}, 'middle_area': {'code': 'Y828', 'name': '佐渡・新潟県その他'}, 'small_area': {'code': 'XM0I', 'name': '南魚沼市'}, 'lat': 37.0627546781, 'lng': 138.8785827105, 'genre': {'name': '居酒屋', 'catch': 'ここにしかない、感動の串カツと名古屋飯', 'code': 'G001'}, 'sub_genre': {'name': '和食', 'code': 'G004'}, 'budget': {'code': 'B003', 'name': '3001～4000円', 'average': 'ディナー3000～4500円'}, 'catch': '名物料理が盛りだくさん 様々な値段のコース料理', 'capacity': 34, 'access': '六日町駅から徒歩１０分、ホテルダフェールイン六日町から徒歩１分', 'mobile_access': '六日町駅から徒歩10分', 'urls': {'pc': 'https://www.hotpepper.jp/strJ001263873/?vos=nhppalsa000016'}, 'photo': {'pc': {'l': 'https://imgfp.hotp.jp/IMGH/99/71/P046989971/P046989971_238.jpg', 'm': 'https://imgfp.hotp.jp/IMGH/99/71/P046989971/P046989971_168.jpg', 's': 'https://imgfp.hotp.jp/IMGH/99/71/P046989971/P046989971_58_s.jpg'}, 'mobile': {'l': 'https://imgfp.hotp.jp/IMGH/99/71/P046989971/P046989971_168.jpg', 's': 'https://imgfp.hotp.jp/IMGH/99/71/P046989971/P046989971_100.jpg'}}, 'open': '月～土、祝前日: 17:30～23:00 （料理L.O. 22:30 ドリンクL.O. 22:30）', 'close': '日、祝日', 'party_capacity': 34, 'other_memo': 'QRコードメニュー対応。写真と翻訳機能付き', 'shop_detail_memo': '', 'budget_memo': '', 'wedding': 'ご希望があればお待ちしております！', 'course': 'あり', 'free_drink': 'あり', 'free_food': 'なし', 'private_room': 'なし', 'horigotatsu': 'なし', 'tatami': 'あり ：他の席と合わせて団体にも対応。', 'card': '利用可', 'non_smoking': '全面禁煙', 'charter': '貸切可 ：お電話で事前予約でのみ対応させていただきます。', 'parking': 'なし ：第四北越銀行駐車場をご利用ください。', 'barrier_free': 'なし', 'show': 'なし', 'karaoke': 'なし', 'band': '不可', 'tv': 'なし', 'lunch': 'なし', 'midnight': '営業していない', 'english': 'あり', 'pet': '不可', 'child': 'お子様連れOK', 'wifi': 'あり', 'coupon_urls': {'pc': 'https://www.hotpepper.jp/strJ001263873/map/?vos=nhppalsa000016', 'sp': 'https://www.hotpepper.jp/strJ001263873/scoupon/?vos=nhppalsa000016'}}\n",
      "--------------------------------------------------\n",
      "{'id': 'J001154847', 'name': 'かっぱ寿司 六日町店', 'logo_image': 'https://imgfp.hotp.jp/IMGH/80/88/P026248088/P026248088_69.jpg', 'name_kana': 'かっぱずし\\u3000むいかまちてん', 'address': '新潟県南魚沼市川窪1014番地１', 'station_name': '六日町', 'ktai_coupon': 1, 'large_service_area': {'code': 'SS60', 'name': '北陸・甲信越'}, 'service_area': {'code': 'SA61', 'name': '新潟'}, 'large_area': {'code': 'Z061', 'name': '新潟'}, 'middle_area': {'code': 'Y828', 'name': '佐渡・新潟県その他'}, 'small_area': {'code': 'XM0I', 'name': '南魚沼市'}, 'lat': 37.082663422, 'lng': 138.8859401177, 'genre': {'name': '和食', 'catch': 'あんしん、おいしい、いいお寿司。', 'code': 'G004'}, 'budget': {'code': 'B010', 'name': '501～1000円', 'average': '1,000円'}, 'catch': 'うに,のどぐろ,本鮪中とろ 「博多一双」登場！', 'capacity': 132, 'access': '六日町駅から国道17号線 経由で車で5分', 'mobile_access': '六日町駅から国道17号線 経由で車で5分', 'urls': {'pc': 'https://www.hotpepper.jp/strJ001154847/?vos=nhppalsa000016'}, 'photo': {'pc': {'l': 'https://imgfp.hotp.jp/IMGH/03/15/P047040315/P047040315_238.jpg', 'm': 'https://imgfp.hotp.jp/IMGH/03/15/P047040315/P047040315_168.jpg', 's': 'https://imgfp.hotp.jp/IMGH/03/15/P047040315/P047040315_58_s.jpg'}, 'mobile': {'l': 'https://imgfp.hotp.jp/IMGH/03/15/P047040315/P047040315_168.jpg', 's': 'https://imgfp.hotp.jp/IMGH/03/15/P047040315/P047040315_100.jpg'}}, 'open': '月～木: 11:00～22:00 （料理L.O. 21:45 ドリンクL.O. 21:45）金: 11:00～23:00 （料理L.O. 22:45 ドリンクL.O. 22:45）土、日、祝日: 10:00～23:00 （料理L.O. 22:45 ドリンクL.O. 22:45）', 'close': '◆年中無休★年末年始・ゴールデンウイーク・旧盆期間の営業時間はかっぱ寿司ホームページ・アプリでご確認ください。', 'party_capacity': '', 'other_memo': 'タッチパネル有☆', 'shop_detail_memo': '', 'budget_memo': '', 'wedding': '', 'course': 'なし', 'free_drink': 'なし', 'free_food': 'あり', 'private_room': 'なし', 'horigotatsu': 'なし', 'tatami': 'なし', 'card': '利用可', 'non_smoking': '全面禁煙', 'charter': '貸切不可', 'parking': 'あり ：42台駐車可能です。', 'barrier_free': 'あり', 'show': 'なし', 'karaoke': 'なし', 'band': '不可', 'tv': 'なし', 'lunch': 'なし', 'midnight': '営業していない', 'english': 'あり', 'pet': '不可', 'child': 'お子様連れ歓迎', 'wifi': 'あり', 'coupon_urls': {'pc': 'https://www.hotpepper.jp/strJ001154847/map/?vos=nhppalsa000016', 'sp': 'https://www.hotpepper.jp/strJ001154847/scoupon/?vos=nhppalsa000016'}}\n",
      "--------------------------------------------------\n",
      "{'id': 'J001262778', 'name': 'イタリアンダイニング マルタ', 'logo_image': 'https://imgfp.hotp.jp/SYS/cmn/images/common/diary/custom/m30_img_noimage.gif', 'name_kana': 'イタリアンダイニングマルタ', 'address': '新潟県南魚沼市浦佐30-5', 'station_name': '浦佐', 'ktai_coupon': 1, 'large_service_area': {'code': 'SS60', 'name': '北陸・甲信越'}, 'service_area': {'code': 'SA61', 'name': '新潟'}, 'large_area': {'code': 'Z061', 'name': '新潟'}, 'middle_area': {'code': 'Y828', 'name': '佐渡・新潟県その他'}, 'small_area': {'code': 'XM0I', 'name': '南魚沼市'}, 'lat': 37.1605661108, 'lng': 138.9160136417, 'genre': {'name': 'イタリアン・フレンチ', 'catch': 'アウトドア×イタリアン地場オリジナル料理', 'code': 'G006'}, 'budget': {'code': 'B002', 'name': '2001～3000円', 'average': 'ランチ1001～1500円/ディナー2001～3000円'}, 'catch': '', 'capacity': 60, 'access': '浦佐駅から車で２分', 'mobile_access': '浦佐駅から車で2分', 'urls': {'pc': 'https://www.hotpepper.jp/strJ001262778/?vos=nhppalsa000016'}, 'photo': {'pc': {'l': 'https://imgfp.hotp.jp/IMGH/49/50/P037134950/P037134950_238.jpg', 'm': 'https://imgfp.hotp.jp/IMGH/49/50/P037134950/P037134950_168.jpg', 's': 'https://imgfp.hotp.jp/IMGH/49/50/P037134950/P037134950_58_s.jpg'}, 'mobile': {'l': 'https://imgfp.hotp.jp/IMGH/49/50/P037134950/P037134950_168.jpg', 's': 'https://imgfp.hotp.jp/IMGH/49/50/P037134950/P037134950_100.jpg'}}, 'open': '月、火、木～日、祝日、祝前日: 11:00～15:00 （料理L.O. 14:30 ドリンクL.O. 15:00）17:30～21:00 （料理L.O. 20:30 ドリンクL.O. 21:00）', 'close': '水', 'party_capacity': '', 'other_memo': '', 'shop_detail_memo': '', 'budget_memo': '', 'wedding': '', 'free_drink': 'なし', 'free_food': 'なし', 'private_room': 'なし', 'horigotatsu': 'なし', 'tatami': 'なし', 'card': '利用不可', 'non_smoking': '全面禁煙', 'charter': '貸切不可', 'parking': 'なし', 'barrier_free': 'なし', 'show': 'なし', 'karaoke': 'なし', 'band': '不可', 'tv': 'なし', 'lunch': 'なし', 'midnight': '営業していない', 'english': 'なし', 'pet': '不可', 'child': 'お子様連れ不可', 'wifi': '未確認', 'coupon_urls': {'pc': 'https://www.hotpepper.jp/strJ001262778/map/?vos=nhppalsa000016', 'sp': 'https://www.hotpepper.jp/strJ001262778/scoupon/?vos=nhppalsa000016'}}\n",
      "--------------------------------------------------\n",
      "{'id': 'J004022001', 'name': '東天紅BBQ', 'logo_image': 'https://imgfp.hotp.jp/IMGH/46/10/P046754610/P046754610_69.jpg', 'name_kana': 'トウテンコウバーベキュー', 'address': '新潟県南魚沼市姥島新田517-1', 'station_name': '石打', 'ktai_coupon': 1, 'large_service_area': {'code': 'SS60', 'name': '北陸・甲信越'}, 'service_area': {'code': 'SA61', 'name': '新潟'}, 'large_area': {'code': 'Z061', 'name': '新潟'}, 'middle_area': {'code': 'Y828', 'name': '佐渡・新潟県その他'}, 'small_area': {'code': 'XM0I', 'name': '南魚沼市'}, 'lat': 36.9890381058, 'lng': 138.8256232043, 'genre': {'name': '焼肉・ホルモン', 'catch': '大満足バーベキューで旬の食材を楽しめる店', 'code': 'G008'}, 'budget': {'code': 'B003', 'name': '3001～4000円', 'average': 'ランチ1001～1500円/ディナー3001～4000円'}, 'catch': '', 'capacity': 18, 'access': '関越道「塩沢石打IC」車2分/舞子スキー場ゲレンデ隣', 'mobile_access': '関越道｢塩沢石打IC｣車2分/舞子ｽｷｰ場ｹﾞﾚﾝﾃﾞ隣', 'urls': {'pc': 'https://www.hotpepper.jp/strJ004022001/?vos=nhppalsa000016'}, 'photo': {'pc': {'l': 'https://imgfp.hotp.jp/IMGH/46/22/P046754622/P046754622_238.jpg', 'm': 'https://imgfp.hotp.jp/IMGH/46/22/P046754622/P046754622_168.jpg', 's': 'https://imgfp.hotp.jp/IMGH/46/22/P046754622/P046754622_58_s.jpg'}, 'mobile': {'l': 'https://imgfp.hotp.jp/IMGH/46/22/P046754622/P046754622_168.jpg', 's': 'https://imgfp.hotp.jp/IMGH/46/22/P046754622/P046754622_100.jpg'}}, 'open': '水～日、祝日、祝前日: 11:00～20:00 （料理L.O. 18:00 ドリンクL.O. 19:00）', 'close': '月、火', 'party_capacity': '', 'other_memo': '', 'shop_detail_memo': '', 'budget_memo': '【ご注意】現地での支払は現金のみです。', 'wedding': '', 'course': 'あり', 'free_drink': 'あり', 'free_food': 'あり', 'private_room': 'なし', 'horigotatsu': 'なし', 'tatami': 'なし', 'card': '利用不可', 'non_smoking': '全面禁煙', 'charter': '貸切不可', 'parking': 'あり', 'barrier_free': 'なし', 'show': 'なし', 'karaoke': 'なし', 'band': '不可', 'tv': 'なし', 'lunch': 'あり', 'midnight': '営業していない', 'english': 'なし', 'pet': '不可', 'child': 'お子様連れ歓迎', 'wifi': 'あり', 'coupon_urls': {'pc': 'https://www.hotpepper.jp/strJ004022001/map/?vos=nhppalsa000016', 'sp': 'https://www.hotpepper.jp/strJ004022001/scoupon/?vos=nhppalsa000016'}}\n",
      "--------------------------------------------------\n",
      "{'id': 'J000336382', 'name': '城山食堂 一本杉店', 'logo_image': 'https://imgfp.hotp.jp/IMGH/90/32/P039079032/P039079032_69.jpg', 'name_kana': 'シロヤマショクドウイッポンスギテン', 'address': '新潟県南魚沼市六日町988-4 ', 'station_name': '六日町', 'ktai_coupon': 1, 'large_service_area': {'code': 'SS60', 'name': '北陸・甲信越'}, 'service_area': {'code': 'SA61', 'name': '新潟'}, 'large_area': {'code': 'Z061', 'name': '新潟'}, 'middle_area': {'code': 'Y828', 'name': '佐渡・新潟県その他'}, 'small_area': {'code': 'XM0I', 'name': '南魚沼市'}, 'lat': 37.0545131636, 'lng': 138.8697368844, 'genre': {'name': '中華', 'catch': '50年の歴史を守る、愛されつづけた中華料理', 'code': 'G007'}, 'budget': {'code': 'B001', 'name': '1501～2000円', 'average': 'ランチ501～1000円/ディナー1501～2000円'}, 'catch': '落ち着いたカウンター席 種類豊富なラーメン', 'capacity': 34, 'access': '六日町駅から徒歩15分17号線通り(無料駐車場あり)', 'mobile_access': '六日町駅から徒歩15分17号線通り(無料駐車場あり)', 'urls': {'pc': 'https://www.hotpepper.jp/strJ000336382/?vos=nhppalsa000016'}, 'photo': {'pc': {'l': 'https://imgfp.hotp.jp/IMGH/90/38/P039079038/P039079038_238.jpg', 'm': 'https://imgfp.hotp.jp/IMGH/90/38/P039079038/P039079038_168.jpg', 's': 'https://imgfp.hotp.jp/IMGH/90/38/P039079038/P039079038_58_s.jpg'}, 'mobile': {'l': 'https://imgfp.hotp.jp/IMGH/90/38/P039079038/P039079038_168.jpg', 's': 'https://imgfp.hotp.jp/IMGH/90/38/P039079038/P039079038_100.jpg'}}, 'open': '月、火、木～日、祝日、祝前日: 11:00～14:00 （料理L.O. 13:30 ドリンクL.O. 13:30）17:00～20:30 （料理L.O. 19:30 ドリンクL.O. 19:30）', 'close': '水', 'party_capacity': 34, 'other_memo': '', 'shop_detail_memo': '', 'budget_memo': '', 'wedding': '', 'free_drink': 'なし', 'free_food': 'なし', 'private_room': 'なし', 'horigotatsu': 'あり', 'tatami': 'あり', 'card': '利用不可', 'non_smoking': '全面禁煙', 'charter': '貸切不可', 'parking': 'あり', 'barrier_free': 'あり', 'show': 'なし', 'karaoke': 'なし', 'band': '不可', 'tv': 'なし', 'lunch': 'あり', 'midnight': '営業していない', 'english': 'なし', 'pet': '不可', 'child': 'お子様連れ歓迎', 'wifi': 'なし', 'coupon_urls': {'pc': 'https://www.hotpepper.jp/strJ000336382/map/?vos=nhppalsa000016', 'sp': 'https://www.hotpepper.jp/strJ000336382/scoupon/?vos=nhppalsa000016'}}\n",
      "--------------------------------------------------\n",
      "{'id': 'J001264324', 'name': 'ワインレストラン 葡萄の花', 'logo_image': 'https://imgfp.hotp.jp/SYS/cmn/images/common/diary/custom/m30_img_noimage.gif', 'name_kana': 'ワインレストランブドウノハナ', 'address': '新潟県南魚沼市浦佐5477番地1  ', 'station_name': '浦佐', 'ktai_coupon': 1, 'large_service_area': {'code': 'SS60', 'name': '北陸・甲信越'}, 'service_area': {'code': 'SA61', 'name': '新潟'}, 'large_area': {'code': 'Z061', 'name': '新潟'}, 'middle_area': {'code': 'Y828', 'name': '佐渡・新潟県その他'}, 'small_area': {'code': 'XM0I', 'name': '南魚沼市'}, 'lat': 37.1628975467, 'lng': 138.9378188637, 'genre': {'name': '洋食', 'catch': '至福の時をワインとともに', 'code': 'G005'}, 'budget': {'code': 'B002', 'name': '2001～3000円', 'average': 'ランチ1001～1500円/ディナー2001～3000円'}, 'catch': '', 'capacity': 60, 'access': '浦佐駅より車で３分', 'mobile_access': '浦佐駅より車で3分', 'urls': {'pc': 'https://www.hotpepper.jp/strJ001264324/?vos=nhppalsa000016'}, 'photo': {'pc': {'l': 'https://imgfp.hotp.jp/IMGH/38/82/P037303882/P037303882_238.jpg', 'm': 'https://imgfp.hotp.jp/IMGH/38/82/P037303882/P037303882_168.jpg', 's': 'https://imgfp.hotp.jp/IMGH/38/82/P037303882/P037303882_58_s.jpg'}, 'mobile': {'l': 'https://imgfp.hotp.jp/IMGH/38/82/P037303882/P037303882_168.jpg', 's': 'https://imgfp.hotp.jp/IMGH/38/82/P037303882/P037303882_100.jpg'}}, 'open': '月、木～日、祝日、祝前日: 11:00～15:00 （料理L.O. 14:00 ドリンクL.O. 14:00）17:00～21:00 （料理L.O. 20:30 ドリンクL.O. 20:30）火: 11:00～15:00 （料理L.O. 14:00 ドリンクL.O. 14:00）', 'close': '水', 'party_capacity': '', 'other_memo': '', 'shop_detail_memo': '', 'budget_memo': '', 'wedding': '', 'free_drink': 'なし', 'free_food': 'なし', 'private_room': 'なし', 'horigotatsu': 'なし', 'tatami': 'なし', 'card': '利用不可', 'non_smoking': '全面禁煙', 'charter': '貸切不可', 'parking': 'なし', 'barrier_free': 'なし', 'show': 'なし', 'karaoke': 'なし', 'band': '不可', 'tv': 'なし', 'lunch': 'あり', 'midnight': '営業していない', 'english': 'なし', 'pet': '不可', 'child': 'お子様連れ不可', 'wifi': '未確認', 'coupon_urls': {'pc': 'https://www.hotpepper.jp/strJ001264324/map/?vos=nhppalsa000016', 'sp': 'https://www.hotpepper.jp/strJ001264324/scoupon/?vos=nhppalsa000016'}}\n",
      "--------------------------------------------------\n",
      "{'id': 'J001276922', 'name': '魚沼炉端焼き 鮮極 六日町', 'logo_image': 'https://imgfp.hotp.jp/IMGH/20/76/P038142076/P038142076_69.jpg', 'name_kana': 'うおぬまろばたやきせんごく', 'address': '新潟県南魚沼市六日町105-4', 'station_name': '六日町', 'ktai_coupon': 1, 'large_service_area': {'code': 'SS60', 'name': '北陸・甲信越'}, 'service_area': {'code': 'SA61', 'name': '新潟'}, 'large_area': {'code': 'Z061', 'name': '新潟'}, 'middle_area': {'code': 'Y828', 'name': '佐渡・新潟県その他'}, 'small_area': {'code': 'XM0I', 'name': '南魚沼市'}, 'lat': 37.0664825375, 'lng': 138.8769071436, 'genre': {'name': '居酒屋', 'catch': '地元魚沼の食材を味わえる炉端焼き居酒屋！', 'code': 'G001'}, 'budget': {'code': 'B008', 'name': '4001～5000円', 'average': '通常平均4500円/宴会平均5500円'}, 'catch': '地元新潟魚沼の食材を使用 地元魚沼10酒蔵全23種類◎', 'capacity': 50, 'access': '北越急行ほくほく線，ＪＲ上越線六日町駅東口より徒歩約3分 ', 'mobile_access': 'JR上越線六日町駅東口より徒歩約3分 ', 'urls': {'pc': 'https://www.hotpepper.jp/strJ001276922/?vos=nhppalsa000016'}, 'photo': {'pc': {'l': 'https://imgfp.hotp.jp/IMGH/20/72/P038142072/P038142072_238.jpg', 'm': 'https://imgfp.hotp.jp/IMGH/20/72/P038142072/P038142072_168.jpg', 's': 'https://imgfp.hotp.jp/IMGH/20/72/P038142072/P038142072_58_s.jpg'}, 'mobile': {'l': 'https://imgfp.hotp.jp/IMGH/20/72/P038142072/P038142072_168.jpg', 's': 'https://imgfp.hotp.jp/IMGH/20/72/P038142072/P038142072_100.jpg'}}, 'open': '月、水～日、祝日、祝前日: 17:00～22:00 （料理L.O. 21:30 ドリンクL.O. 22:00）', 'close': '火', 'party_capacity': 48, 'other_memo': '不明点等、お気軽に店舗へご相談ください。', 'shop_detail_memo': '予算、人数、日程など、些細なことでもご相談ください。', 'budget_memo': '', 'wedding': '', 'course': 'あり', 'free_drink': 'あり ：こだわりの種類豊富なドリンクメニューをご用意しております。ノンアルコールのご用意もございます。', 'free_food': 'なし ：アラカルト又はコースでのご提供になります。当店自慢の料理の数々を存分にお楽しみください。', 'private_room': 'あり ：人数に合わせてアレンジなど可能でございます！ぜひご相談ください。', 'horigotatsu': 'なし ：ゆったり座れるテーブル席をご用意しております。', 'tatami': 'なし ：ゆったり座れるお席をご用意しております。', 'card': '利用可', 'non_smoking': '全面禁煙', 'charter': '貸切可 ：詳細はお問い合わせください。申し訳ございませんが貸切の対応は承っておりません。', 'parking': 'なし ：お近くのパーキングをご利用ください。', 'barrier_free': 'なし ：お手伝いが必要な際はお気軽にご連絡ください。お困りの際はスタッフまでお気軽にお申し付けください。', 'show': 'なし', 'karaoke': 'なし', 'band': '不可', 'tv': 'なし', 'lunch': 'なし', 'midnight': '営業していない', 'english': 'なし', 'pet': '不可', 'child': 'お子様連れOK ：詳細は店舗迄ご相談ください。', 'wifi': '未確認', 'coupon_urls': {'pc': 'https://www.hotpepper.jp/strJ001276922/map/?vos=nhppalsa000016', 'sp': 'https://www.hotpepper.jp/strJ001276922/scoupon/?vos=nhppalsa000016'}}\n",
      "--------------------------------------------------\n",
      "{'id': 'J001121738', 'name': '魚沼 イタリアンバル匠 六日町', 'logo_image': 'https://imgfp.hotp.jp/SYS/cmn/images/common/diary/custom/m30_img_noimage.gif', 'name_kana': 'うおぬまいたりあんばるたくみ', 'address': '新潟県南魚沼市六日町106-8', 'station_name': '六日町', 'ktai_coupon': 1, 'large_service_area': {'code': 'SS60', 'name': '北陸・甲信越'}, 'service_area': {'code': 'SA61', 'name': '新潟'}, 'large_area': {'code': 'Z061', 'name': '新潟'}, 'middle_area': {'code': 'Y828', 'name': '佐渡・新潟県その他'}, 'small_area': {'code': 'XM0I', 'name': '南魚沼市'}, 'lat': 37.0657471006, 'lng': 138.8781662316, 'genre': {'name': 'イタリアン・フレンチ', 'catch': 'リーズナブルな価格で本格イタリアンを満喫', 'code': 'G006'}, 'budget': {'code': 'B003', 'name': '3001～4000円', 'average': '【ランチ】1000円【ディナー】3500円'}, 'catch': 'ピザの種類は全部で20種類 気の合う仲間だけで', 'capacity': 66, 'access': 'ＪＲ上越線 六日町駅・北越急行ほくほく線六日町駅 徒歩4分', 'mobile_access': 'JR上越線六日町駅･北越急行ほくほく線六日町駅 4分', 'urls': {'pc': 'https://www.hotpepper.jp/strJ001121738/?vos=nhppalsa000016'}, 'photo': {'pc': {'l': 'https://imgfp.hotp.jp/IMGH/41/84/P038184184/P038184184_238.jpg', 'm': 'https://imgfp.hotp.jp/IMGH/41/84/P038184184/P038184184_168.jpg', 's': 'https://imgfp.hotp.jp/IMGH/41/84/P038184184/P038184184_58_s.jpg'}, 'mobile': {'l': 'https://imgfp.hotp.jp/IMGH/41/84/P038184184/P038184184_168.jpg', 's': 'https://imgfp.hotp.jp/IMGH/41/84/P038184184/P038184184_100.jpg'}}, 'open': '月、火、木～日、祝日、祝前日: 09:00～16:0017:00～22:00 （料理L.O. 21:15 ドリンクL.O. 21:30）', 'close': '水', 'party_capacity': 66, 'other_memo': '店内に電源ございますので、スマホの充電にご利用いただけます。', 'shop_detail_memo': '', 'budget_memo': 'SUGOCA/はやかけん/TOICA/manaca/Kitaca/nimoca', 'wedding': 'お問い合わせください', 'course': 'あり', 'free_drink': 'あり ：コースに追加にて飲み放題もお付けできますので、そちらでお楽しみ下さい。', 'free_food': 'なし ：アラカルトメニューもしくはコースにてお楽しみ下さい。', 'private_room': 'あり ：完全個室と半個室の両方をご用意いたしておりますので、人数に合わせてご案内いたします。', 'horigotatsu': 'あり ：靴を気にせずお座りいただける掘りごたつ席は女性にも大好評のお席です。', 'tatami': 'あり ：足をのばしておくつろぎいただけるお座敷席はお子様連れにも便利なお席です。', 'card': '利用可', 'non_smoking': '全面禁煙', 'charter': '貸切可 ：エリア貸切を3パターンご用意いたしておりますので、人数に合わせてご案内いたします。', 'parking': 'なし ：お近くのコインパーキングをご利用ください。', 'barrier_free': 'なし ：お手伝いが必要なことがございましたら、お気軽にお近くのスタッフまでお声がけください。', 'show': 'なし', 'karaoke': 'なし', 'band': '不可', 'tv': 'なし', 'lunch': 'あり', 'midnight': '営業していない', 'english': 'なし', 'pet': '不可', 'child': 'お子様連れ歓迎 ：お子様用の椅子、食器がございますのでお子様連れでも安心してご利用いただけます。', 'wifi': 'あり', 'coupon_urls': {'pc': 'https://www.hotpepper.jp/strJ001121738/map/?vos=nhppalsa000016', 'sp': 'https://www.hotpepper.jp/strJ001121738/scoupon/?vos=nhppalsa000016'}}\n",
      "--------------------------------------------------\n"
     ]
    }
   ],
   "source": [
    "import requests\n",
    "\n",
    "# あなたの API キーをここに入力\n",
    "API_KEY = 'ae80bbb52ea4a324'\n",
    "\n",
    "def search_restaurants(keyword, count=10):\n",
    "    url = 'https://webservice.recruit.co.jp/hotpepper/gourmet/v1/'\n",
    "\n",
    "    params = {\n",
    "        'key': API_KEY,\n",
    "        'keyword': keyword,  # 駅名や市区町村名（例：\"渋谷\", \"新宿駅\"）\n",
    "        'count': count,\n",
    "        'format': 'json'\n",
    "    }\n",
    "\n",
    "    response = requests.get(url, params=params)\n",
    "\n",
    "    if response.status_code == 200:\n",
    "        data = response.json()\n",
    "        results = data['results']['shop']\n",
    "        for i, shop in enumerate(results, 1):\n",
    "            print(shop)\n",
    "            #print(f\"{i}. {shop['name']}\")\n",
    "            #print(f\"   アクセス: {shop['access']}\")\n",
    "            #print(f\"   住所: {shop['address']}\")\n",
    "            #print(f\"   ジャンル: {shop['genre']['name']}\")\n",
    "            #print(f\"   URL: {shop['urls']['pc']}\")\n",
    "            print('-' * 50)\n",
    "    else:\n",
    "        print(\"API リクエストに失敗しました\")\n",
    "        print(response.text)\n",
    "\n",
    "# 使用例（駅名や市名を指定）\n",
    "search_restaurants('南魚沼市', count=100)\n"
   ]
  },
  {
   "cell_type": "code",
   "execution_count": null,
   "id": "203a0801",
   "metadata": {},
   "outputs": [],
   "source": []
  }
 ],
 "metadata": {
  "kernelspec": {
   "display_name": ".venv",
   "language": "python",
   "name": "python3"
  },
  "language_info": {
   "codemirror_mode": {
    "name": "ipython",
    "version": 3
   },
   "file_extension": ".py",
   "mimetype": "text/x-python",
   "name": "python",
   "nbconvert_exporter": "python",
   "pygments_lexer": "ipython3",
   "version": "3.9.6"
  }
 },
 "nbformat": 4,
 "nbformat_minor": 5
}
